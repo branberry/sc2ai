{
 "cells": [
  {
   "cell_type": "code",
   "execution_count": 2,
   "metadata": {},
   "outputs": [],
   "source": [
    "from pysc2.agents import base_agent\n",
    "from pysc2.env import sc2_env\n",
    "from pysc2.lib import actions, features,units\n",
    "from absl import app\n",
    "\n",
    "import random\n",
    "import math\n",
    "\n",
    "import torch\n",
    "import torch.nn as nn\n",
    "import torch.optim as optim\n",
    "import torch.nn.functional as F\n",
    "import torchvision.transforms as T\n"
   ]
  },
  {
   "cell_type": "code",
   "execution_count": 3,
   "metadata": {},
   "outputs": [],
   "source": [
    "device = torch.device(\"cuda\" if torch.cuda.is_available() else \"cpu\")"
   ]
  },
  {
   "cell_type": "code",
   "execution_count": 4,
   "metadata": {},
   "outputs": [],
   "source": [
    "class MineralAgent(base_agent.BaseAgent):\n",
    "    \n",
    "    def __init__(self):\n",
    "        super(MineralAgent, self).__init__()\n",
    "\n",
    "    def get_units_by_type(self, obs, unit_type):\n",
    "        return [unit for unit in obs.observation.feature_units\n",
    "            if unit.unit_type == unit_type]\n",
    "        \n",
    "    def can_do(self, obs, action):\n",
    "        return action in obs.observation.available_actions\n",
    "\n",
    "    def step(self, obs):\n",
    "        \"\"\"\n",
    "            method is called every frame\n",
    "        \"\"\"\n",
    "        marines = self.get_units_by_type(obs, units.Terran.Marine)\n",
    "        \n",
    "        print(obs)\n",
    "        if obs.first():\n",
    "            return actions.FUNCTIONS.select_army(\"select\")\n",
    "\n",
    "        return actions.FUNCTIONS.Attack_minimap(\"now\",\n",
    "                                                (random.randint(0,50),random.randint(0,50)))\n"
   ]
  },
  {
   "cell_type": "code",
   "execution_count": 11,
   "metadata": {},
   "outputs": [
    {
     "name": "stderr",
     "output_type": "stream",
     "text": [
      "FATAL Flags parsing error: Unknown command line flag 'f'\n",
      "Pass --helpshort or --helpfull to see help on flags.\n"
     ]
    },
    {
     "ename": "SystemExit",
     "evalue": "1",
     "output_type": "error",
     "traceback": [
      "An exception has occurred, use %tb to see the full traceback.\n",
      "\u001b[1;31mSystemExit\u001b[0m\u001b[1;31m:\u001b[0m 1\n"
     ]
    },
    {
     "name": "stderr",
     "output_type": "stream",
     "text": [
      "d:\\programs\\anaconda3\\envs\\pytorch\\lib\\site-packages\\IPython\\core\\interactiveshell.py:2969: UserWarning: To exit: use 'exit', 'quit', or Ctrl-D.\n",
      "  warn(\"To exit: use 'exit', 'quit', or Ctrl-D.\", stacklevel=1)\n"
     ]
    }
   ],
   "source": [
    "\n",
    "agent = MineralAgent()\n",
    "try:\n",
    "    while True:\n",
    "        with sc2_env.SC2Env(\n",
    "            map_name=\"CollectMineralShards\",\n",
    "            players=[sc2_env.Agent(sc2_env.Race.terran)],\n",
    "            agent_interface_format=features.AgentInterfaceFormat(\n",
    "              feature_dimensions=features.Dimensions(screen=84, minimap=64),use_feature_units=True),\n",
    "            step_mul=4,\n",
    "            game_steps_per_episode=0,\n",
    "            visualize=True) as env:\n",
    "\n",
    "            agent.setup(env.observation_spec(), env.action_spec())\n",
    "\n",
    "            timesteps = env.reset()\n",
    "            agent.reset()\n",
    "\n",
    "        while True:\n",
    "            step_actions = [agent.step(timesteps[0])]\n",
    "            if timesteps[0].last():\n",
    "                break\n",
    "            timesteps = env.step(step_actions)\n",
    "\n",
    "except KeyboardInterrupt:\n",
    "    pass\n",
    "    \n",
    "app.run(main)"
   ]
  },
  {
   "cell_type": "code",
   "execution_count": null,
   "metadata": {},
   "outputs": [],
   "source": []
  }
 ],
 "metadata": {
  "kernelspec": {
   "display_name": "Python 3",
   "language": "python",
   "name": "python3"
  },
  "language_info": {
   "codemirror_mode": {
    "name": "ipython",
    "version": 3
   },
   "file_extension": ".py",
   "mimetype": "text/x-python",
   "name": "python",
   "nbconvert_exporter": "python",
   "pygments_lexer": "ipython3",
   "version": "3.6.6"
  }
 },
 "nbformat": 4,
 "nbformat_minor": 2
}
